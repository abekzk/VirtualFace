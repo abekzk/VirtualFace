{
 "cells": [
  {
   "cell_type": "markdown",
   "metadata": {},
   "source": [
    "## 学習したモデルを使って表情推定"
   ]
  },
  {
   "cell_type": "code",
   "execution_count": 1,
   "metadata": {},
   "outputs": [],
   "source": [
    "import numpy as np\n",
    "import pickle\n",
    "import face_recognition"
   ]
  },
  {
   "cell_type": "code",
   "execution_count": 2,
   "metadata": {},
   "outputs": [
    {
     "data": {
      "text/plain": [
       "RandomForestClassifier(bootstrap=True, class_weight=None, criterion='entropy',\n",
       "            max_depth=None, max_features='auto', max_leaf_nodes=None,\n",
       "            min_impurity_decrease=0.0, min_impurity_split=None,\n",
       "            min_samples_leaf=1, min_samples_split=2,\n",
       "            min_weight_fraction_leaf=0.0, n_estimators=100, n_jobs=1,\n",
       "            oob_score=False, random_state=1, verbose=0, warm_start=False)"
      ]
     },
     "execution_count": 2,
     "metadata": {},
     "output_type": "execute_result"
    }
   ],
   "source": [
    "with open('../data/model.pkl', 'rb') as f:\n",
    "    clf = pickle.load(f)\n",
    "clf"
   ]
  },
  {
   "cell_type": "code",
   "execution_count": 17,
   "metadata": {
    "scrolled": true
   },
   "outputs": [
    {
     "data": {
      "text/plain": [
       "{'bottom_lip': [(29, 31),\n",
       "  (27, 34),\n",
       "  (24, 36),\n",
       "  (22, 36),\n",
       "  (20, 36),\n",
       "  (18, 35),\n",
       "  (16, 32),\n",
       "  (17, 32),\n",
       "  (20, 34),\n",
       "  (22, 34),\n",
       "  (24, 34),\n",
       "  (28, 31)],\n",
       " 'chin': [(10, 22),\n",
       "  (10, 25),\n",
       "  (10, 28),\n",
       "  (11, 32),\n",
       "  (12, 35),\n",
       "  (14, 37),\n",
       "  (17, 40),\n",
       "  (20, 42),\n",
       "  (23, 43),\n",
       "  (26, 42),\n",
       "  (29, 40),\n",
       "  (32, 37),\n",
       "  (35, 34),\n",
       "  (36, 30),\n",
       "  (37, 27),\n",
       "  (37, 23),\n",
       "  (36, 20)],\n",
       " 'left_eye': [(13, 21), (14, 20), (16, 20), (18, 21), (16, 22), (14, 22)],\n",
       " 'left_eyebrow': [(10, 19), (11, 18), (13, 17), (15, 17), (17, 18)],\n",
       " 'nose_bridge': [(20, 21), (20, 23), (20, 25), (20, 28)],\n",
       " 'nose_tip': [(18, 29), (19, 30), (20, 30), (22, 30), (23, 29)],\n",
       " 'right_eye': [(24, 20), (26, 19), (28, 19), (29, 19), (28, 20), (26, 21)],\n",
       " 'right_eyebrow': [(23, 17), (25, 16), (28, 15), (30, 16), (32, 17)],\n",
       " 'top_lip': [(16, 32),\n",
       "  (17, 32),\n",
       "  (20, 31),\n",
       "  (21, 32),\n",
       "  (23, 31),\n",
       "  (26, 31),\n",
       "  (29, 31),\n",
       "  (28, 31),\n",
       "  (23, 32),\n",
       "  (21, 32),\n",
       "  (20, 32),\n",
       "  (17, 32)]}"
      ]
     },
     "execution_count": 17,
     "metadata": {},
     "output_type": "execute_result"
    }
   ],
   "source": [
    "image = face_recognition.load_image_file('../data/dataset_images/fer0000007.png')\n",
    "face_landmarks_list = face_recognition.face_landmarks(image)\n",
    "face_landmarks = face_landmarks_list[0]\n",
    "face_landmarks"
   ]
  },
  {
   "cell_type": "code",
   "execution_count": 18,
   "metadata": {},
   "outputs": [],
   "source": [
    "def points_min_max_norm(points):\n",
    "    return (points - points.min(axis=0)) / (points.max(axis=0) - points.min(axis=0))"
   ]
  },
  {
   "cell_type": "code",
   "execution_count": 19,
   "metadata": {},
   "outputs": [],
   "source": [
    "def get_feature(landmarks):\n",
    "    features = [landmarks[parts_name] for parts_name in ['left_eyebrow', 'right_eyebrow', 'left_eye', 'right_eye', 'top_lip', 'bottom_lip']]\n",
    "    features = [np.array(feature) for feature in features]\n",
    "    features_norm = list(map(points_min_max_norm, features))\n",
    "    features_flatten = [value for feature in features_norm for value in feature.flatten()]\n",
    "    return np.array(features_flatten)"
   ]
  },
  {
   "cell_type": "code",
   "execution_count": 20,
   "metadata": {},
   "outputs": [
    {
     "data": {
      "text/plain": [
       "(92,)"
      ]
     },
     "execution_count": 20,
     "metadata": {},
     "output_type": "execute_result"
    }
   ],
   "source": [
    "feature = get_feature(face_landmarks)\n",
    "feature.shape"
   ]
  },
  {
   "cell_type": "code",
   "execution_count": 21,
   "metadata": {},
   "outputs": [
    {
     "data": {
      "text/plain": [
       "array([1])"
      ]
     },
     "execution_count": 21,
     "metadata": {},
     "output_type": "execute_result"
    }
   ],
   "source": [
    "clf.predict([feature])"
   ]
  },
  {
   "cell_type": "code",
   "execution_count": null,
   "metadata": {},
   "outputs": [],
   "source": []
  }
 ],
 "metadata": {
  "hide_input": false,
  "kernelspec": {
   "display_name": "Python 3",
   "language": "python",
   "name": "python3"
  },
  "language_info": {
   "codemirror_mode": {
    "name": "ipython",
    "version": 3
   },
   "file_extension": ".py",
   "mimetype": "text/x-python",
   "name": "python",
   "nbconvert_exporter": "python",
   "pygments_lexer": "ipython3",
   "version": "3.6.3"
  }
 },
 "nbformat": 4,
 "nbformat_minor": 2
}
